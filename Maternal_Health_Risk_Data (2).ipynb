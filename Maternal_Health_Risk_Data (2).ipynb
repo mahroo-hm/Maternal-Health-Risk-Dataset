{
  "nbformat": 4,
  "nbformat_minor": 0,
  "metadata": {
    "colab": {
      "name": "Maternal_Health_Risk_Data.ipynb",
      "provenance": [],
      "collapsed_sections": []
    },
    "kernelspec": {
      "name": "python3",
      "display_name": "Python 3"
    },
    "language_info": {
      "name": "python"
    }
  },
  "cells": [
    {
      "cell_type": "code",
      "execution_count": 249,
      "metadata": {
        "id": "G8e6ym-J9mv2"
      },
      "outputs": [],
      "source": [
        "import numpy as np\n",
        "import pandas as pd\n",
        "from sklearn import preprocessing\n",
        "from sklearn.model_selection import train_test_split\n",
        "from sklearn.metrics import accuracy_score\n",
        "from sklearn.model_selection import cross_val_score\n",
        "from sklearn.metrics import confusion_matrix, ConfusionMatrixDisplay\n",
        "from prettytable import PrettyTable\n",
        "from sklearn.model_selection import validation_curve\n",
        "from sklearn.tree import DecisionTreeClassifier\n",
        "from sklearn import tree\n",
        "from sklearn.neighbors import KNeighborsClassifier\n",
        "from sklearn.svm import SVC\n",
        "from sklearn.ensemble import RandomForestClassifier"
      ]
    },
    {
      "cell_type": "code",
      "source": [
        "df = pd.read_csv(\"https://archive.ics.uci.edu/ml/machine-learning-databases/00639/Maternal%20Health%20Risk%20Data%20Set.csv\")"
      ],
      "metadata": {
        "id": "Kg7ISZuc_gop"
      },
      "execution_count": 250,
      "outputs": []
    },
    {
      "cell_type": "markdown",
      "source": [
        "- ***Preprocessing***"
      ],
      "metadata": {
        "id": "PBOjWyIBm5hw"
      }
    },
    {
      "cell_type": "code",
      "source": [
        "df.isna().sum()"
      ],
      "metadata": {
        "colab": {
          "base_uri": "https://localhost:8080/"
        },
        "id": "NW_V2AyDCojC",
        "outputId": "7cd150e0-9444-4df2-fbdd-863283dc7735"
      },
      "execution_count": 251,
      "outputs": [
        {
          "output_type": "execute_result",
          "data": {
            "text/plain": [
              "Age            0\n",
              "SystolicBP     0\n",
              "DiastolicBP    0\n",
              "BS             0\n",
              "BodyTemp       0\n",
              "HeartRate      0\n",
              "RiskLevel      0\n",
              "dtype: int64"
            ]
          },
          "metadata": {},
          "execution_count": 251
        }
      ]
    },
    {
      "cell_type": "markdown",
      "source": [
        "دنبال داده ای می گردیم که مقدار نداشته باشد، همانطور که مشخص است این دیتاست \n",
        "فاقد چنین داده ای است"
      ],
      "metadata": {
        "id": "nMKc1SshmNdG"
      }
    },
    {
      "cell_type": "code",
      "source": [
        "#Deleting duplicated values\n",
        "df.drop_duplicates()"
      ],
      "metadata": {
        "colab": {
          "base_uri": "https://localhost:8080/",
          "height": 423
        },
        "id": "-syJENVtm_g1",
        "outputId": "fefad463-48e5-45a9-c180-9ca0564b2bf0"
      },
      "execution_count": 252,
      "outputs": [
        {
          "output_type": "execute_result",
          "data": {
            "text/plain": [
              "     Age  SystolicBP  DiastolicBP    BS  BodyTemp  HeartRate  RiskLevel\n",
              "0     25         130           80  15.0      98.0         86  high risk\n",
              "1     35         140           90  13.0      98.0         70  high risk\n",
              "2     29          90           70   8.0     100.0         80  high risk\n",
              "3     30         140           85   7.0      98.0         70  high risk\n",
              "4     35         120           60   6.1      98.0         76   low risk\n",
              "..   ...         ...          ...   ...       ...        ...        ...\n",
              "673   12         100           50   6.4      98.0         70   mid risk\n",
              "674   15         100           60   6.0      98.0         80   low risk\n",
              "703   15         100           49   7.6      98.0         77   low risk\n",
              "704   12         100           50   6.0      98.0         70   mid risk\n",
              "705   21         100           50   6.8      98.0         60   low risk\n",
              "\n",
              "[452 rows x 7 columns]"
            ],
            "text/html": [
              "\n",
              "  <div id=\"df-c9546511-cd3b-4b3f-806f-c8b0e63b5b56\">\n",
              "    <div class=\"colab-df-container\">\n",
              "      <div>\n",
              "<style scoped>\n",
              "    .dataframe tbody tr th:only-of-type {\n",
              "        vertical-align: middle;\n",
              "    }\n",
              "\n",
              "    .dataframe tbody tr th {\n",
              "        vertical-align: top;\n",
              "    }\n",
              "\n",
              "    .dataframe thead th {\n",
              "        text-align: right;\n",
              "    }\n",
              "</style>\n",
              "<table border=\"1\" class=\"dataframe\">\n",
              "  <thead>\n",
              "    <tr style=\"text-align: right;\">\n",
              "      <th></th>\n",
              "      <th>Age</th>\n",
              "      <th>SystolicBP</th>\n",
              "      <th>DiastolicBP</th>\n",
              "      <th>BS</th>\n",
              "      <th>BodyTemp</th>\n",
              "      <th>HeartRate</th>\n",
              "      <th>RiskLevel</th>\n",
              "    </tr>\n",
              "  </thead>\n",
              "  <tbody>\n",
              "    <tr>\n",
              "      <th>0</th>\n",
              "      <td>25</td>\n",
              "      <td>130</td>\n",
              "      <td>80</td>\n",
              "      <td>15.0</td>\n",
              "      <td>98.0</td>\n",
              "      <td>86</td>\n",
              "      <td>high risk</td>\n",
              "    </tr>\n",
              "    <tr>\n",
              "      <th>1</th>\n",
              "      <td>35</td>\n",
              "      <td>140</td>\n",
              "      <td>90</td>\n",
              "      <td>13.0</td>\n",
              "      <td>98.0</td>\n",
              "      <td>70</td>\n",
              "      <td>high risk</td>\n",
              "    </tr>\n",
              "    <tr>\n",
              "      <th>2</th>\n",
              "      <td>29</td>\n",
              "      <td>90</td>\n",
              "      <td>70</td>\n",
              "      <td>8.0</td>\n",
              "      <td>100.0</td>\n",
              "      <td>80</td>\n",
              "      <td>high risk</td>\n",
              "    </tr>\n",
              "    <tr>\n",
              "      <th>3</th>\n",
              "      <td>30</td>\n",
              "      <td>140</td>\n",
              "      <td>85</td>\n",
              "      <td>7.0</td>\n",
              "      <td>98.0</td>\n",
              "      <td>70</td>\n",
              "      <td>high risk</td>\n",
              "    </tr>\n",
              "    <tr>\n",
              "      <th>4</th>\n",
              "      <td>35</td>\n",
              "      <td>120</td>\n",
              "      <td>60</td>\n",
              "      <td>6.1</td>\n",
              "      <td>98.0</td>\n",
              "      <td>76</td>\n",
              "      <td>low risk</td>\n",
              "    </tr>\n",
              "    <tr>\n",
              "      <th>...</th>\n",
              "      <td>...</td>\n",
              "      <td>...</td>\n",
              "      <td>...</td>\n",
              "      <td>...</td>\n",
              "      <td>...</td>\n",
              "      <td>...</td>\n",
              "      <td>...</td>\n",
              "    </tr>\n",
              "    <tr>\n",
              "      <th>673</th>\n",
              "      <td>12</td>\n",
              "      <td>100</td>\n",
              "      <td>50</td>\n",
              "      <td>6.4</td>\n",
              "      <td>98.0</td>\n",
              "      <td>70</td>\n",
              "      <td>mid risk</td>\n",
              "    </tr>\n",
              "    <tr>\n",
              "      <th>674</th>\n",
              "      <td>15</td>\n",
              "      <td>100</td>\n",
              "      <td>60</td>\n",
              "      <td>6.0</td>\n",
              "      <td>98.0</td>\n",
              "      <td>80</td>\n",
              "      <td>low risk</td>\n",
              "    </tr>\n",
              "    <tr>\n",
              "      <th>703</th>\n",
              "      <td>15</td>\n",
              "      <td>100</td>\n",
              "      <td>49</td>\n",
              "      <td>7.6</td>\n",
              "      <td>98.0</td>\n",
              "      <td>77</td>\n",
              "      <td>low risk</td>\n",
              "    </tr>\n",
              "    <tr>\n",
              "      <th>704</th>\n",
              "      <td>12</td>\n",
              "      <td>100</td>\n",
              "      <td>50</td>\n",
              "      <td>6.0</td>\n",
              "      <td>98.0</td>\n",
              "      <td>70</td>\n",
              "      <td>mid risk</td>\n",
              "    </tr>\n",
              "    <tr>\n",
              "      <th>705</th>\n",
              "      <td>21</td>\n",
              "      <td>100</td>\n",
              "      <td>50</td>\n",
              "      <td>6.8</td>\n",
              "      <td>98.0</td>\n",
              "      <td>60</td>\n",
              "      <td>low risk</td>\n",
              "    </tr>\n",
              "  </tbody>\n",
              "</table>\n",
              "<p>452 rows × 7 columns</p>\n",
              "</div>\n",
              "      <button class=\"colab-df-convert\" onclick=\"convertToInteractive('df-c9546511-cd3b-4b3f-806f-c8b0e63b5b56')\"\n",
              "              title=\"Convert this dataframe to an interactive table.\"\n",
              "              style=\"display:none;\">\n",
              "        \n",
              "  <svg xmlns=\"http://www.w3.org/2000/svg\" height=\"24px\"viewBox=\"0 0 24 24\"\n",
              "       width=\"24px\">\n",
              "    <path d=\"M0 0h24v24H0V0z\" fill=\"none\"/>\n",
              "    <path d=\"M18.56 5.44l.94 2.06.94-2.06 2.06-.94-2.06-.94-.94-2.06-.94 2.06-2.06.94zm-11 1L8.5 8.5l.94-2.06 2.06-.94-2.06-.94L8.5 2.5l-.94 2.06-2.06.94zm10 10l.94 2.06.94-2.06 2.06-.94-2.06-.94-.94-2.06-.94 2.06-2.06.94z\"/><path d=\"M17.41 7.96l-1.37-1.37c-.4-.4-.92-.59-1.43-.59-.52 0-1.04.2-1.43.59L10.3 9.45l-7.72 7.72c-.78.78-.78 2.05 0 2.83L4 21.41c.39.39.9.59 1.41.59.51 0 1.02-.2 1.41-.59l7.78-7.78 2.81-2.81c.8-.78.8-2.07 0-2.86zM5.41 20L4 18.59l7.72-7.72 1.47 1.35L5.41 20z\"/>\n",
              "  </svg>\n",
              "      </button>\n",
              "      \n",
              "  <style>\n",
              "    .colab-df-container {\n",
              "      display:flex;\n",
              "      flex-wrap:wrap;\n",
              "      gap: 12px;\n",
              "    }\n",
              "\n",
              "    .colab-df-convert {\n",
              "      background-color: #E8F0FE;\n",
              "      border: none;\n",
              "      border-radius: 50%;\n",
              "      cursor: pointer;\n",
              "      display: none;\n",
              "      fill: #1967D2;\n",
              "      height: 32px;\n",
              "      padding: 0 0 0 0;\n",
              "      width: 32px;\n",
              "    }\n",
              "\n",
              "    .colab-df-convert:hover {\n",
              "      background-color: #E2EBFA;\n",
              "      box-shadow: 0px 1px 2px rgba(60, 64, 67, 0.3), 0px 1px 3px 1px rgba(60, 64, 67, 0.15);\n",
              "      fill: #174EA6;\n",
              "    }\n",
              "\n",
              "    [theme=dark] .colab-df-convert {\n",
              "      background-color: #3B4455;\n",
              "      fill: #D2E3FC;\n",
              "    }\n",
              "\n",
              "    [theme=dark] .colab-df-convert:hover {\n",
              "      background-color: #434B5C;\n",
              "      box-shadow: 0px 1px 3px 1px rgba(0, 0, 0, 0.15);\n",
              "      filter: drop-shadow(0px 1px 2px rgba(0, 0, 0, 0.3));\n",
              "      fill: #FFFFFF;\n",
              "    }\n",
              "  </style>\n",
              "\n",
              "      <script>\n",
              "        const buttonEl =\n",
              "          document.querySelector('#df-c9546511-cd3b-4b3f-806f-c8b0e63b5b56 button.colab-df-convert');\n",
              "        buttonEl.style.display =\n",
              "          google.colab.kernel.accessAllowed ? 'block' : 'none';\n",
              "\n",
              "        async function convertToInteractive(key) {\n",
              "          const element = document.querySelector('#df-c9546511-cd3b-4b3f-806f-c8b0e63b5b56');\n",
              "          const dataTable =\n",
              "            await google.colab.kernel.invokeFunction('convertToInteractive',\n",
              "                                                     [key], {});\n",
              "          if (!dataTable) return;\n",
              "\n",
              "          const docLinkHtml = 'Like what you see? Visit the ' +\n",
              "            '<a target=\"_blank\" href=https://colab.research.google.com/notebooks/data_table.ipynb>data table notebook</a>'\n",
              "            + ' to learn more about interactive tables.';\n",
              "          element.innerHTML = '';\n",
              "          dataTable['output_type'] = 'display_data';\n",
              "          await google.colab.output.renderOutput(dataTable, element);\n",
              "          const docLink = document.createElement('div');\n",
              "          docLink.innerHTML = docLinkHtml;\n",
              "          element.appendChild(docLink);\n",
              "        }\n",
              "      </script>\n",
              "    </div>\n",
              "  </div>\n",
              "  "
            ]
          },
          "metadata": {},
          "execution_count": 252
        }
      ]
    },
    {
      "cell_type": "code",
      "source": [
        "label_enc = preprocessing.LabelEncoder()\n",
        "df[\"RiskLevel\"] = label_enc.fit_transform(df[\"RiskLevel\"])\n",
        "y = df[\"RiskLevel\"]\n",
        "X = df.drop(\"RiskLevel\", 1)\n",
        "X_train, X_test, y_train, y_test = train_test_split(X, y, random_state = 102,test_size = 0.3)\n",
        "X_train.head()"
      ],
      "metadata": {
        "colab": {
          "base_uri": "https://localhost:8080/",
          "height": 261
        },
        "id": "Om7ysIEJ_r_i",
        "outputId": "0dae4c3c-9b21-406d-c9ba-c58444f43467"
      },
      "execution_count": 253,
      "outputs": [
        {
          "output_type": "stream",
          "name": "stderr",
          "text": [
            "/usr/local/lib/python3.7/dist-packages/ipykernel_launcher.py:4: FutureWarning: In a future version of pandas all arguments of DataFrame.drop except for the argument 'labels' will be keyword-only\n",
            "  after removing the cwd from sys.path.\n"
          ]
        },
        {
          "output_type": "execute_result",
          "data": {
            "text/plain": [
              "     Age  SystolicBP  DiastolicBP    BS  BodyTemp  HeartRate\n",
              "532   49         140           90  15.0      98.0         90\n",
              "156   28         120           90   7.5      98.0         70\n",
              "638   29          90           70  11.0     100.0         80\n",
              "699   34         120           75   8.0      98.0         70\n",
              "127   55         140           95  19.0      98.0         77"
            ],
            "text/html": [
              "\n",
              "  <div id=\"df-193fc047-c569-4ac6-a671-5d8f2f5a9235\">\n",
              "    <div class=\"colab-df-container\">\n",
              "      <div>\n",
              "<style scoped>\n",
              "    .dataframe tbody tr th:only-of-type {\n",
              "        vertical-align: middle;\n",
              "    }\n",
              "\n",
              "    .dataframe tbody tr th {\n",
              "        vertical-align: top;\n",
              "    }\n",
              "\n",
              "    .dataframe thead th {\n",
              "        text-align: right;\n",
              "    }\n",
              "</style>\n",
              "<table border=\"1\" class=\"dataframe\">\n",
              "  <thead>\n",
              "    <tr style=\"text-align: right;\">\n",
              "      <th></th>\n",
              "      <th>Age</th>\n",
              "      <th>SystolicBP</th>\n",
              "      <th>DiastolicBP</th>\n",
              "      <th>BS</th>\n",
              "      <th>BodyTemp</th>\n",
              "      <th>HeartRate</th>\n",
              "    </tr>\n",
              "  </thead>\n",
              "  <tbody>\n",
              "    <tr>\n",
              "      <th>532</th>\n",
              "      <td>49</td>\n",
              "      <td>140</td>\n",
              "      <td>90</td>\n",
              "      <td>15.0</td>\n",
              "      <td>98.0</td>\n",
              "      <td>90</td>\n",
              "    </tr>\n",
              "    <tr>\n",
              "      <th>156</th>\n",
              "      <td>28</td>\n",
              "      <td>120</td>\n",
              "      <td>90</td>\n",
              "      <td>7.5</td>\n",
              "      <td>98.0</td>\n",
              "      <td>70</td>\n",
              "    </tr>\n",
              "    <tr>\n",
              "      <th>638</th>\n",
              "      <td>29</td>\n",
              "      <td>90</td>\n",
              "      <td>70</td>\n",
              "      <td>11.0</td>\n",
              "      <td>100.0</td>\n",
              "      <td>80</td>\n",
              "    </tr>\n",
              "    <tr>\n",
              "      <th>699</th>\n",
              "      <td>34</td>\n",
              "      <td>120</td>\n",
              "      <td>75</td>\n",
              "      <td>8.0</td>\n",
              "      <td>98.0</td>\n",
              "      <td>70</td>\n",
              "    </tr>\n",
              "    <tr>\n",
              "      <th>127</th>\n",
              "      <td>55</td>\n",
              "      <td>140</td>\n",
              "      <td>95</td>\n",
              "      <td>19.0</td>\n",
              "      <td>98.0</td>\n",
              "      <td>77</td>\n",
              "    </tr>\n",
              "  </tbody>\n",
              "</table>\n",
              "</div>\n",
              "      <button class=\"colab-df-convert\" onclick=\"convertToInteractive('df-193fc047-c569-4ac6-a671-5d8f2f5a9235')\"\n",
              "              title=\"Convert this dataframe to an interactive table.\"\n",
              "              style=\"display:none;\">\n",
              "        \n",
              "  <svg xmlns=\"http://www.w3.org/2000/svg\" height=\"24px\"viewBox=\"0 0 24 24\"\n",
              "       width=\"24px\">\n",
              "    <path d=\"M0 0h24v24H0V0z\" fill=\"none\"/>\n",
              "    <path d=\"M18.56 5.44l.94 2.06.94-2.06 2.06-.94-2.06-.94-.94-2.06-.94 2.06-2.06.94zm-11 1L8.5 8.5l.94-2.06 2.06-.94-2.06-.94L8.5 2.5l-.94 2.06-2.06.94zm10 10l.94 2.06.94-2.06 2.06-.94-2.06-.94-.94-2.06-.94 2.06-2.06.94z\"/><path d=\"M17.41 7.96l-1.37-1.37c-.4-.4-.92-.59-1.43-.59-.52 0-1.04.2-1.43.59L10.3 9.45l-7.72 7.72c-.78.78-.78 2.05 0 2.83L4 21.41c.39.39.9.59 1.41.59.51 0 1.02-.2 1.41-.59l7.78-7.78 2.81-2.81c.8-.78.8-2.07 0-2.86zM5.41 20L4 18.59l7.72-7.72 1.47 1.35L5.41 20z\"/>\n",
              "  </svg>\n",
              "      </button>\n",
              "      \n",
              "  <style>\n",
              "    .colab-df-container {\n",
              "      display:flex;\n",
              "      flex-wrap:wrap;\n",
              "      gap: 12px;\n",
              "    }\n",
              "\n",
              "    .colab-df-convert {\n",
              "      background-color: #E8F0FE;\n",
              "      border: none;\n",
              "      border-radius: 50%;\n",
              "      cursor: pointer;\n",
              "      display: none;\n",
              "      fill: #1967D2;\n",
              "      height: 32px;\n",
              "      padding: 0 0 0 0;\n",
              "      width: 32px;\n",
              "    }\n",
              "\n",
              "    .colab-df-convert:hover {\n",
              "      background-color: #E2EBFA;\n",
              "      box-shadow: 0px 1px 2px rgba(60, 64, 67, 0.3), 0px 1px 3px 1px rgba(60, 64, 67, 0.15);\n",
              "      fill: #174EA6;\n",
              "    }\n",
              "\n",
              "    [theme=dark] .colab-df-convert {\n",
              "      background-color: #3B4455;\n",
              "      fill: #D2E3FC;\n",
              "    }\n",
              "\n",
              "    [theme=dark] .colab-df-convert:hover {\n",
              "      background-color: #434B5C;\n",
              "      box-shadow: 0px 1px 3px 1px rgba(0, 0, 0, 0.15);\n",
              "      filter: drop-shadow(0px 1px 2px rgba(0, 0, 0, 0.3));\n",
              "      fill: #FFFFFF;\n",
              "    }\n",
              "  </style>\n",
              "\n",
              "      <script>\n",
              "        const buttonEl =\n",
              "          document.querySelector('#df-193fc047-c569-4ac6-a671-5d8f2f5a9235 button.colab-df-convert');\n",
              "        buttonEl.style.display =\n",
              "          google.colab.kernel.accessAllowed ? 'block' : 'none';\n",
              "\n",
              "        async function convertToInteractive(key) {\n",
              "          const element = document.querySelector('#df-193fc047-c569-4ac6-a671-5d8f2f5a9235');\n",
              "          const dataTable =\n",
              "            await google.colab.kernel.invokeFunction('convertToInteractive',\n",
              "                                                     [key], {});\n",
              "          if (!dataTable) return;\n",
              "\n",
              "          const docLinkHtml = 'Like what you see? Visit the ' +\n",
              "            '<a target=\"_blank\" href=https://colab.research.google.com/notebooks/data_table.ipynb>data table notebook</a>'\n",
              "            + ' to learn more about interactive tables.';\n",
              "          element.innerHTML = '';\n",
              "          dataTable['output_type'] = 'display_data';\n",
              "          await google.colab.output.renderOutput(dataTable, element);\n",
              "          const docLink = document.createElement('div');\n",
              "          docLink.innerHTML = docLinkHtml;\n",
              "          element.appendChild(docLink);\n",
              "        }\n",
              "      </script>\n",
              "    </div>\n",
              "  </div>\n",
              "  "
            ]
          },
          "metadata": {},
          "execution_count": 253
        }
      ]
    },
    {
      "cell_type": "code",
      "source": [
        "#Normalization; all values in range 0 and 1\n",
        "\n",
        "from sklearn.preprocessing import MinMaxScaler\n",
        "scaler = MinMaxScaler()\n",
        "X_train = scaler.fit_transform(X_train)\n",
        "X_test = scaler.transform(X_test)\n",
        "X_train"
      ],
      "metadata": {
        "colab": {
          "base_uri": "https://localhost:8080/"
        },
        "id": "00ZuHfiHE4st",
        "outputId": "52fac4cd-15e5-42be-fd84-1f99f9579411"
      },
      "execution_count": 254,
      "outputs": [
        {
          "output_type": "execute_result",
          "data": {
            "text/plain": [
              "array([[0.65      , 0.77777778, 0.80392157, 0.69230769, 0.        ,\n",
              "        1.        ],\n",
              "       [0.3       , 0.55555556, 0.80392157, 0.11538462, 0.        ,\n",
              "        0.75903614],\n",
              "       [0.31666667, 0.22222222, 0.41176471, 0.38461538, 0.4       ,\n",
              "        0.87951807],\n",
              "       ...,\n",
              "       [0.21666667, 0.33333333, 0.70588235, 0.11538462, 0.        ,\n",
              "        0.71084337],\n",
              "       [0.56666667, 0.55555556, 0.80392157, 0.76923077, 0.        ,\n",
              "        0.87951807],\n",
              "       [0.41666667, 0.55555556, 0.60784314, 0.06923077, 0.        ,\n",
              "        0.87951807]])"
            ]
          },
          "metadata": {},
          "execution_count": 254
        }
      ]
    },
    {
      "cell_type": "code",
      "source": [
        "#Decision Tree\n",
        "\n",
        "tbl = PrettyTable([\"Max Depth\", \"Accuracy\", \"Cross Validation\"])\n",
        "print('Best max depth value: ')\n",
        "\n",
        "#This for loop finds the best value for the hyperparamether(max_depth)\n",
        "for i in range (20, 100):\n",
        "    dtc = DecisionTreeClassifier(max_depth = i)\n",
        "    dtc = dtc.fit(X_train, y_train)\n",
        "    dtc_pred = dtc.predict(X_test)\n",
        "    dtc_acc = accuracy_score(dtc_pred, y_test)\n",
        "    dtc_scores = cross_val_score(dtc, X_train, y_train, cv=5)\n",
        "    tbl.add_row([i, dtc_acc, dtc_scores.mean()])\n",
        "print(tbl)\n",
        "tbl.clear()"
      ],
      "metadata": {
        "colab": {
          "base_uri": "https://localhost:8080/"
        },
        "id": "EvNGHmJrGO4J",
        "outputId": "dda4220b-0125-4b70-cab8-1bf940315ba6"
      },
      "execution_count": 255,
      "outputs": [
        {
          "output_type": "stream",
          "name": "stdout",
          "text": [
            "Best max depth value: \n",
            "+-----------+--------------------+--------------------+\n",
            "| Max Depth |      Accuracy      |  Cross Validation  |\n",
            "+-----------+--------------------+--------------------+\n",
            "|     20    | 0.8491803278688524 | 0.7996803516132255 |\n",
            "|     21    | 0.8590163934426229 | 0.7968534611926881 |\n",
            "|     22    | 0.8491803278688524 | 0.7982818899210868 |\n",
            "|     23    | 0.8491803278688524 | 0.8010888023174507 |\n",
            "|     24    | 0.8524590163934426 | 0.7968634502047748 |\n",
            "|     25    | 0.8524590163934426 | 0.8053341324543004 |\n",
            "|     26    | 0.8524590163934426 | 0.7996803516132254 |\n",
            "|     27    | 0.8524590163934426 | 0.8025072420337629 |\n",
            "|     28    | 0.8524590163934426 | 0.805344121466387  |\n",
            "|     29    | 0.8524590163934426 | 0.8010987913295373 |\n",
            "|     30    | 0.8524590163934426 | 0.7968534611926881 |\n",
            "|     31    | 0.8524590163934426 | 0.8025072420337629 |\n",
            "|     32    | 0.8491803278688524 | 0.7996603735890521 |\n",
            "|     33    | 0.8491803278688524 | 0.7996803516132254 |\n",
            "|     34    | 0.8459016393442623 | 0.8053341324543004 |\n",
            "|     35    | 0.8557377049180328 | 0.7996803516132255 |\n",
            "|     36    | 0.8524590163934426 | 0.8011087803416244 |\n",
            "|     37    | 0.8491803278688524 | 0.7997003296373989 |\n",
            "|     38    | 0.8557377049180328 | 0.8010888023174507 |\n",
            "|     39    | 0.8524590163934426 | 0.7954450104884627 |\n",
            "|     40    | 0.8459016393442623 | 0.8010888023174507 |\n",
            "|     41    | 0.8491803278688524 | 0.8010788133053641 |\n",
            "|     42    | 0.8557377049180328 | 0.8011087803416241 |\n",
            "|     43    | 0.8524590163934426 | 0.7968634502047748 |\n",
            "|     44    | 0.8524590163934426 | 0.8053341324543004 |\n",
            "|     45    | 0.8557377049180328 | 0.7996703626011389 |\n",
            "|     46    | 0.8524590163934426 | 0.8024872640095895 |\n",
            "|     47    | 0.8524590163934426 | 0.8039156927379881 |\n",
            "|     48    | 0.8491803278688524 | 0.7996703626011387 |\n",
            "|     49    | 0.8524590163934426 | 0.8024772749975029 |\n",
            "|     50    | 0.8524590163934426 | 0.8053041654180401 |\n",
            "|     51    | 0.8524590163934426 | 0.8039057037259015 |\n",
            "|     52    | 0.8557377049180328 | 0.8010888023174507 |\n",
            "|     53    | 0.8491803278688524 | 0.7996803516132254 |\n",
            "|     54    | 0.8557377049180328 | 0.8010788133053641 |\n",
            "|     55    | 0.8524590163934426 | 0.7996703626011387 |\n",
            "|     56    | 0.8524590163934426 | 0.8024772749975027 |\n",
            "|     57    | 0.8524590163934426 | 0.7996703626011387 |\n",
            "|     58    | 0.8524590163934426 | 0.8010688242932774 |\n",
            "|     59    | 0.8524590163934426 | 0.8010888023174507 |\n",
            "|     60    | 0.8524590163934426 | 0.8011087803416241 |\n",
            "|     61    | 0.8557377049180328 | 0.7996703626011387 |\n",
            "|     62    | 0.8557377049180328 | 0.7996703626011387 |\n",
            "|     63    | 0.8524590163934426 | 0.7996703626011387 |\n",
            "|     64    | 0.8491803278688524 | 0.8053241434422136 |\n",
            "|     65    | 0.8491803278688524 | 0.7996803516132256 |\n",
            "|     66    | 0.8491803278688524 | 0.8024972530216761 |\n",
            "|     67    | 0.8524590163934426 | 0.795435021476376  |\n",
            "|     68    | 0.8459016393442623 | 0.8081610228748376 |\n",
            "|     69    | 0.8524590163934426 | 0.7982619118969133 |\n",
            "|     70    | 0.8524590163934426 | 0.7982619118969134 |\n",
            "|     71    | 0.8491803278688524 | 0.8039156927379881 |\n",
            "|     72    | 0.8459016393442623 | 0.8039057037259015 |\n",
            "|     73    | 0.8524590163934426 | 0.8053141544301268 |\n",
            "|     74    | 0.8491803278688524 | 0.7996803516132255 |\n",
            "|     75    | 0.8491803278688524 | 0.8025072420337629 |\n",
            "|     76    | 0.8491803278688524 | 0.803925681750075  |\n",
            "|     77    | 0.8491803278688524 | 0.7968634502047748 |\n",
            "|     78    | 0.8557377049180328 | 0.7996703626011387 |\n",
            "|     79    | 0.8491803278688524 | 0.8024872640095895 |\n",
            "|     80    | 0.8524590163934426 | 0.8053241434422137 |\n",
            "|     81    | 0.8459016393442623 | 0.7982818899210868 |\n",
            "|     82    | 0.8491803278688524 | 0.8010888023174507 |\n",
            "|     83    | 0.8491803278688524 | 0.7982619118969134 |\n",
            "|     84    | 0.8524590163934426 | 0.7996903406253122 |\n",
            "|     85    | 0.8491803278688524 | 0.8024972530216761 |\n",
            "|     86    | 0.8524590163934426 | 0.8039156927379881 |\n",
            "|     87    | 0.8590163934426229 | 0.7982519228848267 |\n",
            "|     88    | 0.8590163934426229 | 0.8025072420337629 |\n",
            "|     89    | 0.8524590163934426 | 0.7996603735890521 |\n",
            "|     90    | 0.8524590163934426 | 0.8067525721706124 |\n",
            "|     91    | 0.8491803278688524 | 0.8053041654180401 |\n",
            "|     92    | 0.8524590163934426 | 0.8067425831585258 |\n",
            "|     93    | 0.8557377049180328 | 0.8010987913295373 |\n",
            "|     94    | 0.8491803278688524 | 0.8025072420337629 |\n",
            "|     95    | 0.8491803278688524 | 0.8010788133053641 |\n",
            "|     96    | 0.8524590163934426 | 0.7996803516132254 |\n",
            "|     97    | 0.8491803278688524 | 0.7996903406253122 |\n",
            "|     98    | 0.8491803278688524 | 0.8067425831585255 |\n",
            "|     99    | 0.8491803278688524 | 0.7968534611926881 |\n",
            "+-----------+--------------------+--------------------+\n"
          ]
        }
      ]
    },
    {
      "cell_type": "code",
      "source": [
        "tbl = PrettyTable([\"Min Samples Split\", \"Accuracy\", \"Cross Validation\"])\n",
        "print('Best min sample split value: ')\n",
        "\n",
        "#This for loop finds the best value for the hyperparamether(min_samples_split)\n",
        "for i in range (2, 30):\n",
        "    dtc = DecisionTreeClassifier(max_depth = 60, min_samples_split = i)\n",
        "    dtc = dtc.fit(X_train, y_train)\n",
        "    dtc_pred = dtc.predict(X_test)\n",
        "    dtc_acc = accuracy_score(dtc_pred, y_test)\n",
        "    dtc_scores = cross_val_score(dtc, X_train, y_train, cv=5)\n",
        "    tbl.add_row([i, dtc_acc, dtc_scores.mean()])\n",
        "print(tbl)\n",
        "tbl.clear()"
      ],
      "metadata": {
        "colab": {
          "base_uri": "https://localhost:8080/"
        },
        "id": "_5OxLqrdYJee",
        "outputId": "87fd27c0-ea35-48c0-b530-f74e7e890d82"
      },
      "execution_count": 256,
      "outputs": [
        {
          "output_type": "stream",
          "name": "stdout",
          "text": [
            "Best min sample split value: \n",
            "+-------------------+--------------------+--------------------+\n",
            "| Min Samples Split |      Accuracy      |  Cross Validation  |\n",
            "+-------------------+--------------------+--------------------+\n",
            "|         2         | 0.8459016393442623 | 0.8010987913295373 |\n",
            "|         3         | 0.8426229508196721 | 0.7940465487963241 |\n",
            "|         4         | 0.8032786885245902 | 0.7869843172510238 |\n",
            "|         5         | 0.8065573770491803 | 0.7728998102087703 |\n",
            "|         6         | 0.8098360655737705 | 0.7686744580960942 |\n",
            "|         7         | 0.8065573770491803 | 0.7672460293676956 |\n",
            "|         8         | 0.8163934426229508 | 0.7630206772550195 |\n",
            "|         9         | 0.8032786885245902 | 0.7588053141544301 |\n",
            "|         10        | 0.7967213114754098 | 0.7573469183897712 |\n",
            "|         11        | 0.8032786885245902 | 0.7517031265607831 |\n",
            "|         12        | 0.7868852459016393 | 0.746059334731795  |\n",
            "|         13        | 0.7836065573770492 | 0.7446608730396564 |\n",
            "|         14        | 0.7934426229508197 | 0.7446708620517432 |\n",
            "|         15        | 0.8163934426229508 | 0.7446808510638298 |\n",
            "|         16        | 0.8098360655737705 | 0.7404355209269803 |\n",
            "|         17        | 0.8032786885245902 | 0.739027070222755  |\n",
            "|         18        |        0.8         | 0.7362101688143043 |\n",
            "|         19        |        0.8         | 0.7319848167016282 |\n",
            "|         20        | 0.8032786885245902 | 0.7291779043052642 |\n",
            "|         21        | 0.7901639344262295 | 0.7263610028968135 |\n",
            "|         22        | 0.7868852459016393 | 0.7193187493756867 |\n",
            "|         23        | 0.7868852459016393 | 0.716501847967236  |\n",
            "|         24        | 0.780327868852459  | 0.7080211767056237 |\n",
            "|         25        | 0.780327868852459  | 0.7080211767056237 |\n",
            "|         26        | 0.7672131147540984 | 0.7037958245929478 |\n",
            "|         27        | 0.7672131147540984 | 0.7037758465687743 |\n",
            "|         28        | 0.7639344262295082 | 0.6953151533313356 |\n",
            "|         29        | 0.7639344262295082 | 0.6924982519228848 |\n",
            "+-------------------+--------------------+--------------------+\n"
          ]
        }
      ]
    },
    {
      "cell_type": "code",
      "source": [
        "tbl = PrettyTable([\"Min Samples Leaf\", \"Accuracy\", \"Cross Validation\"])\n",
        "print('Best min samples leaf value: ')\n",
        "\n",
        "#This for loop finds the best value for the hyperparamether(min_samples_leaf)\n",
        "for i in range(1, 20):\n",
        "    dtc = DecisionTreeClassifier(max_depth = 60, min_samples_split = 2, min_samples_leaf = i)\n",
        "    dtc = dtc.fit(X_train, y_train)\n",
        "    dtc_pred = dtc.predict(X_test)\n",
        "    dtc_acc = accuracy_score(dtc_pred, y_test)\n",
        "    dtc_scores = cross_val_score(dtc, X_train, y_train, cv=5)\n",
        "    tbl.add_row([i, dtc_acc, dtc_scores.mean()])\n",
        "print(tbl)\n",
        "tbl.clear()"
      ],
      "metadata": {
        "colab": {
          "base_uri": "https://localhost:8080/"
        },
        "id": "O16zGMk1YskB",
        "outputId": "795b2967-4c0e-4ee1-d94f-8fae8e08c215"
      },
      "execution_count": 257,
      "outputs": [
        {
          "output_type": "stream",
          "name": "stdout",
          "text": [
            "Best min samples leaf value: \n",
            "+------------------+--------------------+--------------------+\n",
            "| Min Samples Leaf |      Accuracy      |  Cross Validation  |\n",
            "+------------------+--------------------+--------------------+\n",
            "|        1         | 0.8524590163934426 | 0.8010688242932774 |\n",
            "|        2         | 0.7573770491803279 | 0.7503046648686446 |\n",
            "|        3         | 0.7475409836065574 | 0.7531215662770951 |\n",
            "|        4         | 0.8163934426229508 | 0.7221356507841376 |\n",
            "|        5         | 0.7967213114754098 | 0.7136449905104385 |\n",
            "|        6         | 0.8032786885245902 | 0.698142043751873  |\n",
            "|        7         | 0.8032786885245902 | 0.7051842972729997 |\n",
            "|        8         | 0.7868852459016393 | 0.6981220657276995 |\n",
            "|        9         | 0.780327868852459  | 0.6896713615023473 |\n",
            "|        10        | 0.7737704918032787 | 0.6910498451703126 |\n",
            "|        11        | 0.7508196721311475 | 0.6783837778443712 |\n",
            "|        12        | 0.7672131147540984 | 0.6868644491059834 |\n",
            "|        13        | 0.760655737704918  | 0.6868644491059834 |\n",
            "|        14        | 0.7573770491803279 | 0.6826390969933074 |\n",
            "|        15        | 0.7573770491803279 | 0.6840275696733593 |\n",
            "|        16        | 0.7540983606557377 | 0.6840475476975326 |\n",
            "|        17        | 0.7540983606557377 | 0.6798221955848567 |\n",
            "|        18        | 0.760655737704918  | 0.6897013285386075 |\n",
            "|        19        | 0.760655737704918  | 0.6868844271301568 |\n",
            "+------------------+--------------------+--------------------+\n"
          ]
        }
      ]
    },
    {
      "cell_type": "code",
      "source": [
        "#Set all hyperparamethers\n",
        "dtc = DecisionTreeClassifier(max_depth = 60, min_samples_split = 2, min_samples_leaf = 1)\n",
        "dtc = dtc.fit(X_train, y_train)\n",
        "dtc_pred = dtc.predict(X_test)\n",
        "\n",
        "res = PrettyTable([\"Accuracy of train data\", \"Accuracy of test data\" ,\"Cross Validation\"])\n",
        "dtc_acc_test = accuracy_score(dtc_pred, y_test)\n",
        "dtc_acc_train = dtc.score(X_train, y_train)\n",
        "dtc_scores = cross_val_score(dtc, X_train, y_train, cv=5)\n",
        "res.add_row([dtc_acc_train, dtc_acc_test, dtc_scores.mean()])\n",
        "print(res)\n",
        "res.clear()\n",
        "\n",
        "cm = confusion_matrix(y_test, dtc_pred)\n",
        "print(cm)\n",
        "ConfusionMatrixDisplay(confusion_matrix=cm, display_labels= dtc.classes_).plot()"
      ],
      "metadata": {
        "id": "4sVJvyaJWPpa"
      },
      "execution_count": null,
      "outputs": []
    },
    {
      "cell_type": "markdown",
      "source": [
        "آنچه به نظر می رسد این است که درستی داده های آموزش داده شده حدود 92 درصد است و داده های تست شده حدود 85 درصد. همچنین کراس ولیدیشن نشان می دهد که حدود 80 درصد می توان به نتیجه مدل اطمینان کرد. همانطور که از نمودار مشخص است از کل تعداد داده ها حدود 79تا به درستی 0 پیش بینی شده اند، 3 تا 1 بوده ولی 0 پیش بینی شده است و 4 تا داده 2 بوده ولی 0 پیش بینی شده است. همچنین از ردسف دوم برداشت می شود که 97 داده 1 بوده و 1 به درستی پیش بینی شده است، 13 داده 2 بوده و 1 داده 0 بوده ولی به اشتباه 1 پیش بینی شده است در رابطه با ستون سوم هم مشخص است که 84 داده به درستی 2 پیش بیبی شده اند ولی 19 داده به نادرستی 1 و 5 داده به ناردستی 0 پیش بینی شده اند. میتوان از این شکل نتیجه گرفت این مدل 92 درصد 0 را پیش بینی می کند، 87 درصد داده 1 و 77 درصد داده 2 را می تواند پیش بینی کند "
      ],
      "metadata": {
        "id": "8zwyDQtcrgDm"
      }
    },
    {
      "cell_type": "code",
      "source": [
        "# KNN\n",
        "\n",
        "tbl = PrettyTable([\"Leaf Size\", \"Accuracy\", \"Cross Validation\"])\n",
        "print('Best leaf size value: ')\n",
        "\n",
        "for i in range(1, 50):\n",
        "    knc = KNeighborsClassifier(leaf_size = i)\n",
        "    knc = knc.fit(X_train, y_train)\n",
        "    knc_pred = knc.predict(X_test)\n",
        "    knc_scores = cross_val_score(knc, X_train, y_train, cv=5)\n",
        "    knc_acc = accuracy_score(knc_pred, y_test)\n",
        "    tbl.add_row([i, knc_acc, knc_scores.mean()])\n",
        "print(tbl)\n",
        "tbl.clear()"
      ],
      "metadata": {
        "id": "qtyfBs43SkLH"
      },
      "execution_count": null,
      "outputs": []
    },
    {
      "cell_type": "code",
      "source": [
        "tbl = PrettyTable([\"n_neighbors\", \"Accuracy\", \"Cross Validation\"])\n",
        "print('Best n_neighbors value: ')\n",
        "\n",
        "for i in range(1, 20):\n",
        "    knc = KNeighborsClassifier(leaf_size = 50, n_neighbors = i)\n",
        "    knc = knc.fit(X_train, y_train)\n",
        "    knc_pred = knc.predict(X_test)\n",
        "    knc_scores = cross_val_score(knc, X_train, y_train, cv=5)\n",
        "    knc_acc = accuracy_score(knc_pred, y_test)\n",
        "    tbl.add_row([i, knc_acc, knc_scores.mean()])\n",
        "print(tbl)\n",
        "tbl.clear()"
      ],
      "metadata": {
        "id": "MHWON310kjGT"
      },
      "execution_count": null,
      "outputs": []
    },
    {
      "cell_type": "code",
      "source": [
        "knc = KNeighborsClassifier(leaf_size = 50, n_neighbors = 1)\n",
        "knc = knc.fit(X_train, y_train)\n",
        "knc_pred = knc.predict(X_test)\n",
        "\n",
        "res = PrettyTable([\"Accuracy of train data\", \"Accuracy of test data\" ,\"Cross Validation\"])\n",
        "knc_acc_test = accuracy_score(knc_pred, y_test)\n",
        "knc_acc_train = knc.score(X_train, y_train)\n",
        "knc_scores = cross_val_score(knc, X_train, y_train, cv=5)\n",
        "res.add_row([knc_acc_train, knc_acc_test, knc_scores.mean()])\n",
        "print(res)\n",
        "res.clear()\n",
        "\n",
        "cm = confusion_matrix(y_test, knc_pred)\n",
        "print(cm)\n",
        "ConfusionMatrixDisplay(confusion_matrix=cm, display_labels= knc.classes_).plot()"
      ],
      "metadata": {
        "id": "LtMOYN5alBGh"
      },
      "execution_count": null,
      "outputs": []
    },
    {
      "cell_type": "markdown",
      "source": [
        "آنچه به نظر می رسد این است که درستی داده های آموزش داده شده حدود 90 درصد است و داده های تست شده حدود 83 درصد. همچنین کراس ولیدیشن نشان می دهد که حدود 77 درصد می توان به نتیجه مدل اطمینان کرد. همانطور که از نمودار مشخص است از کل تعداد داده ها حدود 70 به درستی 0 پیش بینی شده اند. همچنین از ردیف دوم برداشت می شود که 97 داده 1 بوده و 1 به درستی پیش بینی شده است. در رابطه با ستون سوم هم مشخص است که 86 داده به درستی 2 پیش بیبی شده اند."
      ],
      "metadata": {
        "id": "i23JpjWeyxhd"
      }
    },
    {
      "cell_type": "code",
      "source": [
        "# SVM\n",
        "\n",
        "tbl = PrettyTable([\"C\", \"Accuracy\", \"Cross Validation\"])\n",
        "print('Best C value: ')\n",
        "\n",
        "for i in range(50, 100):\n",
        "    svc = SVC(C=i)\n",
        "    svc = svc.fit(X_train, y_train)\n",
        "    svc_pred = svc.predict(X_test)\n",
        "    svc_acc = accuracy_score(svc_pred, y_test)\n",
        "    svc_scores = cross_val_score(svc, X_train, y_train, cv=5)\n",
        "    tbl.add_row([i, svc_acc, svc_scores.mean()])\n",
        "print(tbl)\n",
        "tbl.clear()\n",
        "confusion_matrix(y_test, svc_pred)"
      ],
      "metadata": {
        "id": "PRtS2vqYWliX"
      },
      "execution_count": null,
      "outputs": []
    },
    {
      "cell_type": "code",
      "source": [
        "tbl = PrettyTable(['gamma', \"Accuracy\", \"Cross Validation\"])\n",
        "print('Best gamma value: ')\n",
        "\n",
        "for i in range(1 , 30):\n",
        "    svc = SVC(C = 80, gamma = i)\n",
        "    svc = svc.fit(X_train, y_train)\n",
        "    svc_pred = svc.predict(X_test)\n",
        "    svc_acc = accuracy_score(svc_pred, y_test)\n",
        "    svc_scores = cross_val_score(svc, X_train, y_train, cv=5)\n",
        "    tbl.add_row([i, svc_acc, svc_scores.mean()])\n",
        "print(tbl)\n",
        "tbl.clear()"
      ],
      "metadata": {
        "id": "GlquVwjtiLbt"
      },
      "execution_count": null,
      "outputs": []
    },
    {
      "cell_type": "code",
      "source": [
        "svc = SVC(C = 80, gamma = 25)\n",
        "svc = svc.fit(X_train, y_train)\n",
        "svc_pred = svc.predict(X_test)\n",
        "\n",
        "res = PrettyTable([\"Accuracy of train data\", \"Accuracy of test data\" ,\"Cross Validation\"])\n",
        "svc_acc_test = accuracy_score(svc_pred, y_test)\n",
        "svc_acc_train = svc.score(X_train, y_train)\n",
        "svc_scores = cross_val_score(svc, X_train, y_train, cv=5)\n",
        "res.add_row([svc_acc_train, svc_acc_test, svc_scores.mean()])\n",
        "print(res)\n",
        "res.clear()\n",
        "\n",
        "cm = confusion_matrix(y_test, svc_pred)\n",
        "print(cm)\n",
        "ConfusionMatrixDisplay(confusion_matrix=cm, display_labels= svc.classes_).plot()"
      ],
      "metadata": {
        "id": "Y4uU0yCPiutD"
      },
      "execution_count": null,
      "outputs": []
    },
    {
      "cell_type": "markdown",
      "source": [
        "آنچه به نظر می رسد این است که درستی داده های آموزش داده شده حدود 88 درصد است و داده های تست شده حدود 80 درصد. همچنین کراس ولیدیشن نشان می دهد که حدود 76 درصد می توان به نتیجه مدل اطمینان کرد. همانطور که از نمودار مشخص است از کل تعداد داده ها حدود 78 به درستی 0 پیش بینی شده اند. همچنین از ردیف دوم برداشت می شود که 96 داده 1 بوده و 1 به درستی پیش بینی شده است. در رابطه با ستون سوم هم مشخص است که 71 داده به درستی 2 پیش بیبی شده اند."
      ],
      "metadata": {
        "id": "FWxGIVp7zmyI"
      }
    },
    {
      "cell_type": "code",
      "source": [
        "# Random Forest\n",
        "\n",
        "tbl = PrettyTable([\"n_jobs\", \"Accuracy\", \"Cross Validation\"])\n",
        "print('Best n_jobs value: ')\n",
        "\n",
        "for i in range(-10, 0):\n",
        "    rfc = RandomForestClassifier(n_jobs = i)\n",
        "    rfc = rfc.fit(X_train, y_train)\n",
        "    rfc_pred = rfc.predict(X_test)\n",
        "    rfc_acc = accuracy_score(rfc_pred, y_test)\n",
        "    rfc_scores = cross_val_score(rfc, X_train, y_train, cv=5)\n",
        "    tbl.add_row([i, rfc_acc, rfc_scores.mean()])\n",
        "print(tbl)\n",
        "tbl.clear()"
      ],
      "metadata": {
        "id": "rVpXmsviXQsr"
      },
      "execution_count": null,
      "outputs": []
    },
    {
      "cell_type": "code",
      "source": [
        "tbl = PrettyTable([\"n_estimators\", \"Accuracy\", \"Cross Validation\"])\n",
        "print('Best n_estimators value: ')\n",
        "for i in range(1, 40):\n",
        "    rfc = RandomForestClassifier(n_jobs = -1, n_estimators = i)\n",
        "    rfc = rfc.fit(X_train, y_train)\n",
        "    rfc_pred = rfc.predict(X_test)\n",
        "    rfc_acc = accuracy_score(rfc_pred, y_test)\n",
        "    rfc_scores = cross_val_score(rfc, X_train, y_train, cv=5)\n",
        "    tbl.add_row([i, rfc_acc, rfc_scores.mean()])\n",
        "print(tbl)\n",
        "tbl.clear()"
      ],
      "metadata": {
        "id": "XNo1bffjY4qC"
      },
      "execution_count": null,
      "outputs": []
    },
    {
      "cell_type": "code",
      "source": [
        "rfc = RandomForestClassifier(n_jobs = -1, n_estimators = 20)\n",
        "rfc = rfc.fit(X_train, y_train)\n",
        "rfc_pred = rfc.predict(X_test)\n",
        "\n",
        "res = PrettyTable([\"Accuracy of train data\", \"Accuracy of test data\" ,\"Cross Validation\"])\n",
        "rfc_acc_test = accuracy_score(rfc_pred, y_test)\n",
        "rfc_acc_train = rfc.score(X_train, y_train)\n",
        "rfc_scores = cross_val_score(rfc, X_train, y_train, cv=5)\n",
        "res.add_row([rfc_acc_train, rfc_acc_test, rfc_scores.mean()])\n",
        "print(res)\n",
        "res.clear()\n",
        "\n",
        "cm = confusion_matrix(y_test, rfc_pred)\n",
        "print(cm)\n",
        "ConfusionMatrixDisplay(confusion_matrix=cm, display_labels= rfc.classes_).plot()"
      ],
      "metadata": {
        "colab": {
          "base_uri": "https://localhost:8080/",
          "height": 439
        },
        "id": "VnvRxJ2kff6f",
        "outputId": "b941bfe8-1c58-48be-dbe1-762f379cbec1"
      },
      "execution_count": 264,
      "outputs": [
        {
          "output_type": "stream",
          "name": "stdout",
          "text": [
            "+------------------------+-----------------------+--------------------+\n",
            "| Accuracy of train data | Accuracy of test data |  Cross Validation  |\n",
            "+------------------------+-----------------------+--------------------+\n",
            "|    0.92524682651622    |   0.8557377049180328  | 0.8081210668264909 |\n",
            "+------------------------+-----------------------+--------------------+\n",
            "[[ 75   1   9]\n",
            " [  3 100  16]\n",
            " [  2  13  86]]\n"
          ]
        },
        {
          "output_type": "execute_result",
          "data": {
            "text/plain": [
              "<sklearn.metrics._plot.confusion_matrix.ConfusionMatrixDisplay at 0x7f13006dec90>"
            ]
          },
          "metadata": {},
          "execution_count": 264
        },
        {
          "output_type": "display_data",
          "data": {
            "text/plain": [
              "<Figure size 432x288 with 2 Axes>"
            ],
            "image/png": "[encoded data removed]"
          },
          "metadata": {
            "needs_background": "light"
          }
        }
      ]
    },
    {
      "cell_type": "markdown",
      "source": [
        "آنچه به نظر می رسد این است که درستی داده های آموزش داده شده حدود 92.5 درصد است و داده های تست شده حدود 85 درصد. همچنین کراس ولیدیشن نشان می دهد که حدود 80 درصد می توان به نتیجه مدل اطمینان کرد. همانطور که از نمودار مشخص است از کل تعداد داده ها حدود 75 به درستی 0 پیش بینی شده اند. همچنین از ردیف دوم برداشت می شود که 100 داده 1 بوده و 1 به درستی پیش بینی شده است. در رابطه با ستون سوم هم مشخص است که 86 داده به درستی 2 پیش بیبی شده اند."
      ],
      "metadata": {
        "id": "4UVjDy2I0DWw"
      }
    },
    {
      "cell_type": "code",
      "source": [
        "res = PrettyTable([\"Model\" ,\"Accuracy of train data\", \"Accuracy of test data\" ,\"Cross Validation\"])\n",
        "res.add_row(['Random Forest', rfc_acc_train, rfc_acc_test, rfc_scores.mean()])\n",
        "res.add_row(['Decesion tree', dtc_acc_train, dtc_acc_test, dtc_scores.mean()])\n",
        "res.add_row(['KNN', knc_acc_train, knc_acc_test, knc_scores.mean()])\n",
        "res.add_row(['SVM', svc_acc_train, svc_acc_test, svc_scores.mean()])\n",
        "print(res)\n"
      ],
      "metadata": {
        "colab": {
          "base_uri": "https://localhost:8080/"
        },
        "id": "Odga1Nj30VGn",
        "outputId": "cd77045e-0c5e-4cc9-a4d9-956c6383a682"
      },
      "execution_count": 266,
      "outputs": [
        {
          "output_type": "stream",
          "name": "stdout",
          "text": [
            "+---------------+------------------------+-----------------------+--------------------+\n",
            "|     Model     | Accuracy of train data | Accuracy of test data |  Cross Validation  |\n",
            "+---------------+------------------------+-----------------------+--------------------+\n",
            "| Random Forest |    0.92524682651622    |   0.8557377049180328  | 0.8081210668264909 |\n",
            "| Decesion tree |    0.92524682651622    |   0.8524590163934426  | 0.7982619118969134 |\n",
            "|      KNN      |   0.9040902679830748   |   0.8295081967213115  | 0.7728898211966836 |\n",
            "|      SVM      |   0.8871650211565585   |   0.8032786885245902  | 0.7671860952951752 |\n",
            "+---------------+------------------------+-----------------------+--------------------+\n"
          ]
        }
      ]
    },
    {
      "cell_type": "markdown",
      "source": [
        "به نظر می آید بهترین مدل برای توصیف این دادگان رندوم فارست است چراکه داده ها را بهتر و دقیق تر پیش بینی می کند."
      ],
      "metadata": {
        "id": "ijOYl94n0879"
      }
    }
  ]
}